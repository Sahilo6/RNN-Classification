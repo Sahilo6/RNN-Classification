{
 "cells": [
  {
   "cell_type": "code",
   "execution_count": 1,
   "metadata": {},
   "outputs": [],
   "source": [
    "import numpy as np\n",
    "import tensorflow as tf\n",
    "from tensorflow.keras.datasets import imdb\n",
    "from tensorflow.keras.preprocessing import sequence\n",
    "from tensorflow.keras.models import load_model"
   ]
  },
  {
   "cell_type": "code",
   "execution_count": 2,
   "metadata": {},
   "outputs": [],
   "source": [
    "#mapping of words index back to words\n",
    "word_index=imdb.get_word_index()\n",
    "#word_index\n",
    "\n",
    "reverse_word_index={value: key for key,value in word_index.items()}\n",
    "#reverse_word_index"
   ]
  },
  {
   "cell_type": "code",
   "execution_count": 3,
   "metadata": {},
   "outputs": [
    {
     "name": "stderr",
     "output_type": "stream",
     "text": [
      "WARNING:absl:Compiled the loaded model, but the compiled metrics have yet to be built. `model.compile_metrics` will be empty until you train or evaluate the model.\n"
     ]
    },
    {
     "data": {
      "text/html": [
       "<pre style=\"white-space:pre;overflow-x:auto;line-height:normal;font-family:Menlo,'DejaVu Sans Mono',consolas,'Courier New',monospace\"><span style=\"font-weight: bold\">Model: \"sequential\"</span>\n",
       "</pre>\n"
      ],
      "text/plain": [
       "\u001b[1mModel: \"sequential\"\u001b[0m\n"
      ]
     },
     "metadata": {},
     "output_type": "display_data"
    },
    {
     "data": {
      "text/html": [
       "<pre style=\"white-space:pre;overflow-x:auto;line-height:normal;font-family:Menlo,'DejaVu Sans Mono',consolas,'Courier New',monospace\">┏━━━━━━━━━━━━━━━━━━━━━━━━━━━━━━━━━┳━━━━━━━━━━━━━━━━━━━━━━━━┳━━━━━━━━━━━━━━━┓\n",
       "┃<span style=\"font-weight: bold\"> Layer (type)                    </span>┃<span style=\"font-weight: bold\"> Output Shape           </span>┃<span style=\"font-weight: bold\">       Param # </span>┃\n",
       "┡━━━━━━━━━━━━━━━━━━━━━━━━━━━━━━━━━╇━━━━━━━━━━━━━━━━━━━━━━━━╇━━━━━━━━━━━━━━━┩\n",
       "│ embedding (<span style=\"color: #0087ff; text-decoration-color: #0087ff\">Embedding</span>)           │ (<span style=\"color: #00af00; text-decoration-color: #00af00\">32</span>, <span style=\"color: #00af00; text-decoration-color: #00af00\">500</span>, <span style=\"color: #00af00; text-decoration-color: #00af00\">128</span>)         │     <span style=\"color: #00af00; text-decoration-color: #00af00\">1,280,000</span> │\n",
       "├─────────────────────────────────┼────────────────────────┼───────────────┤\n",
       "│ simple_rnn (<span style=\"color: #0087ff; text-decoration-color: #0087ff\">SimpleRNN</span>)          │ (<span style=\"color: #00af00; text-decoration-color: #00af00\">32</span>, <span style=\"color: #00af00; text-decoration-color: #00af00\">128</span>)              │        <span style=\"color: #00af00; text-decoration-color: #00af00\">32,896</span> │\n",
       "├─────────────────────────────────┼────────────────────────┼───────────────┤\n",
       "│ dense (<span style=\"color: #0087ff; text-decoration-color: #0087ff\">Dense</span>)                   │ (<span style=\"color: #00af00; text-decoration-color: #00af00\">32</span>, <span style=\"color: #00af00; text-decoration-color: #00af00\">1</span>)                │           <span style=\"color: #00af00; text-decoration-color: #00af00\">129</span> │\n",
       "└─────────────────────────────────┴────────────────────────┴───────────────┘\n",
       "</pre>\n"
      ],
      "text/plain": [
       "┏━━━━━━━━━━━━━━━━━━━━━━━━━━━━━━━━━┳━━━━━━━━━━━━━━━━━━━━━━━━┳━━━━━━━━━━━━━━━┓\n",
       "┃\u001b[1m \u001b[0m\u001b[1mLayer (type)                   \u001b[0m\u001b[1m \u001b[0m┃\u001b[1m \u001b[0m\u001b[1mOutput Shape          \u001b[0m\u001b[1m \u001b[0m┃\u001b[1m \u001b[0m\u001b[1m      Param #\u001b[0m\u001b[1m \u001b[0m┃\n",
       "┡━━━━━━━━━━━━━━━━━━━━━━━━━━━━━━━━━╇━━━━━━━━━━━━━━━━━━━━━━━━╇━━━━━━━━━━━━━━━┩\n",
       "│ embedding (\u001b[38;5;33mEmbedding\u001b[0m)           │ (\u001b[38;5;34m32\u001b[0m, \u001b[38;5;34m500\u001b[0m, \u001b[38;5;34m128\u001b[0m)         │     \u001b[38;5;34m1,280,000\u001b[0m │\n",
       "├─────────────────────────────────┼────────────────────────┼───────────────┤\n",
       "│ simple_rnn (\u001b[38;5;33mSimpleRNN\u001b[0m)          │ (\u001b[38;5;34m32\u001b[0m, \u001b[38;5;34m128\u001b[0m)              │        \u001b[38;5;34m32,896\u001b[0m │\n",
       "├─────────────────────────────────┼────────────────────────┼───────────────┤\n",
       "│ dense (\u001b[38;5;33mDense\u001b[0m)                   │ (\u001b[38;5;34m32\u001b[0m, \u001b[38;5;34m1\u001b[0m)                │           \u001b[38;5;34m129\u001b[0m │\n",
       "└─────────────────────────────────┴────────────────────────┴───────────────┘\n"
      ]
     },
     "metadata": {},
     "output_type": "display_data"
    },
    {
     "data": {
      "text/html": [
       "<pre style=\"white-space:pre;overflow-x:auto;line-height:normal;font-family:Menlo,'DejaVu Sans Mono',consolas,'Courier New',monospace\"><span style=\"font-weight: bold\"> Total params: </span><span style=\"color: #00af00; text-decoration-color: #00af00\">1,313,027</span> (5.01 MB)\n",
       "</pre>\n"
      ],
      "text/plain": [
       "\u001b[1m Total params: \u001b[0m\u001b[38;5;34m1,313,027\u001b[0m (5.01 MB)\n"
      ]
     },
     "metadata": {},
     "output_type": "display_data"
    },
    {
     "data": {
      "text/html": [
       "<pre style=\"white-space:pre;overflow-x:auto;line-height:normal;font-family:Menlo,'DejaVu Sans Mono',consolas,'Courier New',monospace\"><span style=\"font-weight: bold\"> Trainable params: </span><span style=\"color: #00af00; text-decoration-color: #00af00\">1,313,025</span> (5.01 MB)\n",
       "</pre>\n"
      ],
      "text/plain": [
       "\u001b[1m Trainable params: \u001b[0m\u001b[38;5;34m1,313,025\u001b[0m (5.01 MB)\n"
      ]
     },
     "metadata": {},
     "output_type": "display_data"
    },
    {
     "data": {
      "text/html": [
       "<pre style=\"white-space:pre;overflow-x:auto;line-height:normal;font-family:Menlo,'DejaVu Sans Mono',consolas,'Courier New',monospace\"><span style=\"font-weight: bold\"> Non-trainable params: </span><span style=\"color: #00af00; text-decoration-color: #00af00\">0</span> (0.00 B)\n",
       "</pre>\n"
      ],
      "text/plain": [
       "\u001b[1m Non-trainable params: \u001b[0m\u001b[38;5;34m0\u001b[0m (0.00 B)\n"
      ]
     },
     "metadata": {},
     "output_type": "display_data"
    },
    {
     "data": {
      "text/html": [
       "<pre style=\"white-space:pre;overflow-x:auto;line-height:normal;font-family:Menlo,'DejaVu Sans Mono',consolas,'Courier New',monospace\"><span style=\"font-weight: bold\"> Optimizer params: </span><span style=\"color: #00af00; text-decoration-color: #00af00\">2</span> (12.00 B)\n",
       "</pre>\n"
      ],
      "text/plain": [
       "\u001b[1m Optimizer params: \u001b[0m\u001b[38;5;34m2\u001b[0m (12.00 B)\n"
      ]
     },
     "metadata": {},
     "output_type": "display_data"
    }
   ],
   "source": [
    "model=load_model('simple_rnn_imdb.h5')\n",
    "model.summary()"
   ]
  },
  {
   "cell_type": "code",
   "execution_count": 4,
   "metadata": {},
   "outputs": [
    {
     "data": {
      "text/plain": [
       "[array([[ 0.06510425,  0.0421806 , -0.1369104 , ..., -0.02365489,\n",
       "         -0.26937425,  0.05087847],\n",
       "        [ 0.05114235,  0.02786056, -0.02556425, ...,  0.02437439,\n",
       "          0.019008  ,  0.07457956],\n",
       "        [-0.05504041,  0.02948131, -0.00094045, ...,  0.11163726,\n",
       "          0.12441792, -0.09206778],\n",
       "        ...,\n",
       "        [ 0.1112274 ,  0.17042953, -0.01153705, ..., -0.02350187,\n",
       "         -0.12074444,  0.08047261],\n",
       "        [-0.11399496,  0.21084161, -0.06633896, ...,  0.01914936,\n",
       "          0.2203369 , -0.16816756],\n",
       "        [ 0.07715403,  0.07932777, -0.09720721, ..., -0.05385732,\n",
       "          0.00699166, -0.05166209]], dtype=float32),\n",
       " array([[-0.11952645, -0.00878725, -0.1148936 , ..., -0.11787873,\n",
       "         -0.05016725, -0.03662705],\n",
       "        [-0.0300333 ,  0.09765536, -0.03721663, ..., -0.09380452,\n",
       "          0.14243248, -0.02803309],\n",
       "        [-0.09241224,  0.11395098,  0.01570181, ...,  0.01270149,\n",
       "         -0.11655275,  0.11270686],\n",
       "        ...,\n",
       "        [-0.06201277,  0.08479545, -0.1125272 , ...,  0.04547627,\n",
       "          0.0275527 , -0.05221469],\n",
       "        [-0.05441104,  0.12512213,  0.02574954, ..., -0.1176912 ,\n",
       "         -0.17588177,  0.1402302 ],\n",
       "        [ 0.09421913,  0.03747505, -0.19767608, ..., -0.13365504,\n",
       "          0.12897733,  0.00941129]], dtype=float32),\n",
       " array([[ 0.02689133, -0.1818591 , -0.09536464, ...,  0.04755301,\n",
       "          0.05791244,  0.13804246],\n",
       "        [ 0.08464463,  0.04015352,  0.02108472, ...,  0.07433619,\n",
       "          0.10425238,  0.03180923],\n",
       "        [-0.0125264 ,  0.02870117,  0.11654989, ..., -0.10706443,\n",
       "         -0.00241333,  0.05168242],\n",
       "        ...,\n",
       "        [ 0.06608144,  0.1947911 ,  0.08692693, ...,  0.0310344 ,\n",
       "         -0.02430048,  0.17105229],\n",
       "        [ 0.0922285 ,  0.06916794, -0.05821281, ...,  0.0821565 ,\n",
       "         -0.03189594, -0.00295141],\n",
       "        [-0.11137164, -0.15734576,  0.02279353, ...,  0.06869089,\n",
       "          0.09261668, -0.01587521]], dtype=float32),\n",
       " array([ 0.0320114 ,  0.02481245,  0.00891983, -0.00662654,  0.04841389,\n",
       "        -0.03583549,  0.04288119,  0.00900426,  0.05007701, -0.05373062,\n",
       "        -0.0347335 , -0.02215476,  0.05634113,  0.02335563, -0.05283586,\n",
       "         0.04534145, -0.02000237, -0.04552891,  0.03307815, -0.02620642,\n",
       "         0.01498714, -0.01423165,  0.04302842, -0.04366204,  0.00370233,\n",
       "        -0.03394991,  0.05304775, -0.03192047, -0.01744322, -0.02227352,\n",
       "        -0.02375613,  0.0302509 , -0.03479502, -0.01339135, -0.04916269,\n",
       "         0.04970778, -0.0374901 , -0.01137086, -0.00423559,  0.00377648,\n",
       "         0.04825662,  0.02915823, -0.02621619, -0.01573153, -0.03556011,\n",
       "        -0.01930404,  0.05154661, -0.00296243, -0.00134767, -0.03852992,\n",
       "        -0.01921496,  0.03584277,  0.00082818, -0.00772329, -0.04532372,\n",
       "        -0.04339452,  0.05537857, -0.04136015,  0.00733952, -0.02581432,\n",
       "        -0.00485909,  0.04302574, -0.04084944, -0.03913444,  0.05578802,\n",
       "         0.02416898,  0.0374568 , -0.0082303 , -0.00534065, -0.03611534,\n",
       "         0.04698364,  0.04607245, -0.04302274, -0.04929006,  0.0388184 ,\n",
       "         0.05076819, -0.03471342,  0.02509632,  0.03071818, -0.02392164,\n",
       "         0.01616771,  0.0052918 , -0.03457033,  0.05367864,  0.04745563,\n",
       "        -0.05986885, -0.04829452,  0.04983631, -0.02298009, -0.03039635,\n",
       "        -0.03551839, -0.02869115,  0.04409615,  0.05221033, -0.05798599,\n",
       "        -0.04731978,  0.0110546 , -0.0103472 , -0.03732114, -0.04753246,\n",
       "        -0.05343123,  0.03382548, -0.02335598,  0.02153094, -0.0025551 ,\n",
       "         0.035702  , -0.00876924, -0.05930275, -0.00925815,  0.01026373,\n",
       "        -0.03321674,  0.02764312,  0.05453464, -0.04654442, -0.04753542,\n",
       "        -0.02476202, -0.03729159, -0.04379362,  0.05903976, -0.02858788,\n",
       "        -0.01059496, -0.01108162, -0.03494991,  0.01418942, -0.02797145,\n",
       "         0.00138218,  0.02201296,  0.04963685], dtype=float32),\n",
       " array([[-1.49866313e-01],\n",
       "        [ 3.43027890e-01],\n",
       "        [-8.70742276e-02],\n",
       "        [ 1.31850868e-01],\n",
       "        [-1.97543010e-01],\n",
       "        [ 1.82778373e-01],\n",
       "        [ 6.50908127e-02],\n",
       "        [ 5.02081096e-01],\n",
       "        [-8.24316293e-02],\n",
       "        [ 1.03048265e-01],\n",
       "        [ 6.09351814e-01],\n",
       "        [ 6.60108566e-01],\n",
       "        [-1.40582845e-01],\n",
       "        [ 1.24610908e-01],\n",
       "        [-5.98473214e-02],\n",
       "        [-4.07219678e-02],\n",
       "        [-1.68431163e-01],\n",
       "        [-5.20882234e-02],\n",
       "        [ 5.96248806e-01],\n",
       "        [ 1.64683089e-01],\n",
       "        [ 2.02756658e-01],\n",
       "        [ 1.41455501e-01],\n",
       "        [ 2.50402451e-01],\n",
       "        [ 7.98963308e-02],\n",
       "        [ 1.38803408e-01],\n",
       "        [ 2.86905468e-01],\n",
       "        [-2.22045124e-01],\n",
       "        [ 2.38000363e-01],\n",
       "        [ 1.45234257e-01],\n",
       "        [ 2.47171652e-02],\n",
       "        [ 1.15143195e-01],\n",
       "        [ 1.45445257e-01],\n",
       "        [ 2.13787958e-01],\n",
       "        [ 1.11696221e-01],\n",
       "        [ 4.47586216e-02],\n",
       "        [-1.28859252e-01],\n",
       "        [-9.23048109e-02],\n",
       "        [ 1.88462421e-01],\n",
       "        [ 5.28423563e-02],\n",
       "        [ 1.81019485e-01],\n",
       "        [-8.22331235e-02],\n",
       "        [-6.33048564e-02],\n",
       "        [ 2.94433534e-01],\n",
       "        [ 1.80424675e-01],\n",
       "        [-4.67801541e-02],\n",
       "        [-1.74549699e-01],\n",
       "        [-1.04698211e-01],\n",
       "        [-8.91010277e-03],\n",
       "        [-1.03084199e-01],\n",
       "        [ 1.67340159e-01],\n",
       "        [ 1.17814623e-01],\n",
       "        [ 1.70504570e-01],\n",
       "        [ 3.57497185e-02],\n",
       "        [-6.32759988e-01],\n",
       "        [-1.89406076e-03],\n",
       "        [ 1.89725652e-01],\n",
       "        [-1.18405737e-01],\n",
       "        [-2.26133898e-01],\n",
       "        [ 3.95286232e-02],\n",
       "        [-8.90995443e-01],\n",
       "        [-1.25826225e-01],\n",
       "        [-3.45741329e-03],\n",
       "        [-1.20528281e-01],\n",
       "        [ 3.33758071e-02],\n",
       "        [-1.63232729e-01],\n",
       "        [-3.02470237e-01],\n",
       "        [-2.18556195e-01],\n",
       "        [-1.04903810e-01],\n",
       "        [ 9.84522030e-02],\n",
       "        [-9.03880447e-02],\n",
       "        [ 8.70793611e-02],\n",
       "        [ 4.46270853e-02],\n",
       "        [ 1.37051105e-01],\n",
       "        [ 4.40437458e-02],\n",
       "        [-2.37492546e-01],\n",
       "        [ 2.78593656e-02],\n",
       "        [ 2.14598328e-01],\n",
       "        [ 2.54336238e-01],\n",
       "        [ 1.85980424e-02],\n",
       "        [ 8.37481543e-02],\n",
       "        [ 2.56985910e-02],\n",
       "        [-9.29973647e-02],\n",
       "        [ 1.43790081e-01],\n",
       "        [-1.05310872e-01],\n",
       "        [-1.50486439e-01],\n",
       "        [ 1.83554649e-01],\n",
       "        [-2.57361244e-04],\n",
       "        [-8.18048343e-02],\n",
       "        [-6.24922812e-02],\n",
       "        [ 2.31042504e-01],\n",
       "        [-8.98700804e-02],\n",
       "        [-1.68487504e-02],\n",
       "        [-7.90634453e-02],\n",
       "        [-1.52505070e-01],\n",
       "        [ 1.65854126e-01],\n",
       "        [ 1.20586455e-01],\n",
       "        [-1.06504060e-01],\n",
       "        [-3.08734536e-01],\n",
       "        [ 1.63479865e-01],\n",
       "        [-1.37265101e-01],\n",
       "        [ 7.06205517e-02],\n",
       "        [ 8.07638839e-02],\n",
       "        [ 8.60067979e-02],\n",
       "        [ 7.55435675e-02],\n",
       "        [ 1.24080384e+00],\n",
       "        [ 1.12817228e-01],\n",
       "        [ 1.10948288e+00],\n",
       "        [ 3.48097123e-02],\n",
       "        [-6.36026859e-01],\n",
       "        [ 1.93691552e-01],\n",
       "        [ 3.60008255e-02],\n",
       "        [-9.96332243e-02],\n",
       "        [ 7.52474889e-02],\n",
       "        [ 2.64308363e-01],\n",
       "        [-2.02670097e-01],\n",
       "        [-8.53001252e-02],\n",
       "        [ 4.40286286e-02],\n",
       "        [ 1.21744893e-01],\n",
       "        [-3.87578015e-03],\n",
       "        [ 3.87980819e-01],\n",
       "        [ 5.84862474e-03],\n",
       "        [ 1.13441072e-01],\n",
       "        [-3.76569782e-03],\n",
       "        [-8.34261477e-02],\n",
       "        [ 3.20750661e-02],\n",
       "        [-3.32314000e-02],\n",
       "        [-1.02131762e-01],\n",
       "        [-1.24099746e-01]], dtype=float32),\n",
       " array([0.8727675], dtype=float32)]"
      ]
     },
     "execution_count": 4,
     "metadata": {},
     "output_type": "execute_result"
    }
   ],
   "source": [
    "model.get_weights()"
   ]
  },
  {
   "cell_type": "code",
   "execution_count": 6,
   "metadata": {},
   "outputs": [],
   "source": [
    "#helper function\n",
    "#function to decode the reviews\n",
    "\n",
    "def decode_review(encoded_review):\n",
    "    return ' '.join([reverse_word_index.get(i-3) for i in encoded_review])\n",
    "\n",
    "#function to preprocess user input\n",
    "def preprocess_text(text):\n",
    "    words =text.lower().split()\n",
    "    encoded_review=[word_index.get(word,2)+3 for word in words]\n",
    "    padded_review=sequence.pad_sequences([encoded_review],maxlen=500)\n",
    "    return padded_review"
   ]
  },
  {
   "cell_type": "code",
   "execution_count": 12,
   "metadata": {},
   "outputs": [],
   "source": [
    "### Prediction  function\n",
    "\n",
    "def predict_sentiment(review):\n",
    "    preprocessed_input=preprocess_text(review)\n",
    "\n",
    "    prediction=model.predict(preprocessed_input)\n",
    "\n",
    "    sentiment = 'Positive' if prediction[0][0] > 0.5 else 'Negative'\n",
    "    \n",
    "    return sentiment, prediction[0][0]\n",
    "\n"
   ]
  },
  {
   "cell_type": "code",
   "execution_count": 14,
   "metadata": {},
   "outputs": [
    {
     "name": "stdout",
     "output_type": "stream",
     "text": [
      "\u001b[1m1/1\u001b[0m \u001b[32m━━━━━━━━━━━━━━━━━━━━\u001b[0m\u001b[37m\u001b[0m \u001b[1m0s\u001b[0m 22ms/step\n",
      "Review: This movie was fantastic! The acting was great and the plot was thrilling.\n",
      "Sentiment: Positive\n",
      "Prediction Score: 0.9316055774688721\n"
     ]
    }
   ],
   "source": [
    "# Step 4: User Input and Prediction\n",
    "# Example review for prediction\n",
    "example_review = \"This movie was fantastic! The acting was great and the plot was thrilling.\"\n",
    "\n",
    "sentiment,score=predict_sentiment(example_review)\n",
    "\n",
    "print(f'Review: {example_review}')\n",
    "print(f'Sentiment: {sentiment}')\n",
    "print(f'Prediction Score: {score}')"
   ]
  }
 ],
 "metadata": {
  "kernelspec": {
   "display_name": "Python 3",
   "language": "python",
   "name": "python3"
  },
  "language_info": {
   "codemirror_mode": {
    "name": "ipython",
    "version": 3
   },
   "file_extension": ".py",
   "mimetype": "text/x-python",
   "name": "python",
   "nbconvert_exporter": "python",
   "pygments_lexer": "ipython3",
   "version": "3.11.13"
  }
 },
 "nbformat": 4,
 "nbformat_minor": 2
}
